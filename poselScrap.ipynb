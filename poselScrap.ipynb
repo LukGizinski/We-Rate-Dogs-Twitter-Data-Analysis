{
  "nbformat": 4,
  "nbformat_minor": 0,
  "metadata": {
    "colab": {
      "name": "poselScrap.ipynb",
      "provenance": [],
      "collapsed_sections": [],
      "authorship_tag": "ABX9TyOkAxM5TEa1G2sxa1e9j8C7",
      "include_colab_link": true
    },
    "kernelspec": {
      "name": "python3",
      "display_name": "Python 3"
    }
  },
  "cells": [
    {
      "cell_type": "markdown",
      "metadata": {
        "id": "view-in-github",
        "colab_type": "text"
      },
      "source": [
        "<a href=\"https://colab.research.google.com/github/LukGizinski/We-Rate-Dogs-Twitter-Data-Analysis/blob/master/poselScrap.ipynb\" target=\"_parent\"><img src=\"https://colab.research.google.com/assets/colab-badge.svg\" alt=\"Open In Colab\"/></a>"
      ]
    },
    {
      "cell_type": "code",
      "metadata": {
        "id": "PPEDfhu77Jbg"
      },
      "source": [
        "# https://realpython.com/beautiful-soup-web-scraper-python/\n",
        "# http://www.sejm.gov.pl/poslowie/stat/stat.htm\n",
        "# https://www.sejm.gov.pl/sejm9.nsf/posel.xsp?id=001&type=A"
      ],
      "execution_count": null,
      "outputs": []
    },
    {
      "cell_type": "code",
      "metadata": {
        "id": "mHv3d8e8jIOT"
      },
      "source": [
        "import pandas as pd"
      ],
      "execution_count": 1,
      "outputs": []
    },
    {
      "cell_type": "code",
      "metadata": {
        "id": "gnRmeVRxi21u",
        "colab": {
          "base_uri": "https://localhost:8080/"
        },
        "outputId": "674256b2-544c-4688-f7cc-a9f66aa96bd9"
      },
      "source": [
        "#Start by connecting gdrive into the google colab\n",
        "\n",
        "from google.colab import drive\n",
        "\n",
        "drive.mount('/content/gdrive')"
      ],
      "execution_count": 4,
      "outputs": [
        {
          "output_type": "stream",
          "text": [
            "Drive already mounted at /content/gdrive; to attempt to forcibly remount, call drive.mount(\"/content/gdrive\", force_remount=True).\n"
          ],
          "name": "stdout"
        }
      ]
    },
    {
      "cell_type": "code",
      "metadata": {
        "id": "lnKUvsf5i3bY",
        "colab": {
          "base_uri": "https://localhost:8080/",
          "height": 424
        },
        "outputId": "d85b48dd-96af-46ce-d863-765e752c1bd2"
      },
      "source": [
        "  file = '/content/gdrive/My Drive/Colab Notebooks/no_polityk.csv'\n",
        "  df = pd.read_csv(file)\n",
        "  df"
      ],
      "execution_count": 5,
      "outputs": [
        {
          "output_type": "execute_result",
          "data": {
            "text/html": [
              "<div>\n",
              "<style scoped>\n",
              "    .dataframe tbody tr th:only-of-type {\n",
              "        vertical-align: middle;\n",
              "    }\n",
              "\n",
              "    .dataframe tbody tr th {\n",
              "        vertical-align: top;\n",
              "    }\n",
              "\n",
              "    .dataframe thead th {\n",
              "        text-align: right;\n",
              "    }\n",
              "</style>\n",
              "<table border=\"1\" class=\"dataframe\">\n",
              "  <thead>\n",
              "    <tr style=\"text-align: right;\">\n",
              "      <th></th>\n",
              "      <th>url_parametr</th>\n",
              "    </tr>\n",
              "  </thead>\n",
              "  <tbody>\n",
              "    <tr>\n",
              "      <th>0</th>\n",
              "      <td>posel.xsp?id=001</td>\n",
              "    </tr>\n",
              "    <tr>\n",
              "      <th>1</th>\n",
              "      <td>posel.xsp?id=002</td>\n",
              "    </tr>\n",
              "    <tr>\n",
              "      <th>2</th>\n",
              "      <td>posel.xsp?id=003</td>\n",
              "    </tr>\n",
              "    <tr>\n",
              "      <th>3</th>\n",
              "      <td>posel.xsp?id=004</td>\n",
              "    </tr>\n",
              "    <tr>\n",
              "      <th>4</th>\n",
              "      <td>posel.xsp?id=005</td>\n",
              "    </tr>\n",
              "    <tr>\n",
              "      <th>...</th>\n",
              "      <td>...</td>\n",
              "    </tr>\n",
              "    <tr>\n",
              "      <th>490</th>\n",
              "      <td>posel.xsp?id=491</td>\n",
              "    </tr>\n",
              "    <tr>\n",
              "      <th>491</th>\n",
              "      <td>posel.xsp?id=492</td>\n",
              "    </tr>\n",
              "    <tr>\n",
              "      <th>492</th>\n",
              "      <td>posel.xsp?id=493</td>\n",
              "    </tr>\n",
              "    <tr>\n",
              "      <th>493</th>\n",
              "      <td>posel.xsp?id=494</td>\n",
              "    </tr>\n",
              "    <tr>\n",
              "      <th>494</th>\n",
              "      <td>posel.xsp?id=495</td>\n",
              "    </tr>\n",
              "  </tbody>\n",
              "</table>\n",
              "<p>495 rows × 1 columns</p>\n",
              "</div>"
            ],
            "text/plain": [
              "         url_parametr\n",
              "0    posel.xsp?id=001\n",
              "1    posel.xsp?id=002\n",
              "2    posel.xsp?id=003\n",
              "3    posel.xsp?id=004\n",
              "4    posel.xsp?id=005\n",
              "..                ...\n",
              "490  posel.xsp?id=491\n",
              "491  posel.xsp?id=492\n",
              "492  posel.xsp?id=493\n",
              "493  posel.xsp?id=494\n",
              "494  posel.xsp?id=495\n",
              "\n",
              "[495 rows x 1 columns]"
            ]
          },
          "metadata": {
            "tags": []
          },
          "execution_count": 5
        }
      ]
    },
    {
      "cell_type": "code",
      "metadata": {
        "id": "vb7hk2_lYS8j"
      },
      "source": [
        "#Make a links to scrap data for all PEP\n",
        "\n",
        "a = 'https://www.sejm.gov.pl/sejm9.nsf/' \n",
        "\n",
        "b = '&type=A'\n",
        "\n",
        "urls = a + df['url_parametr'] + b"
      ],
      "execution_count": 6,
      "outputs": []
    },
    {
      "cell_type": "code",
      "metadata": {
        "id": "qAR-CMsLphF8",
        "colab": {
          "base_uri": "https://localhost:8080/"
        },
        "outputId": "20e14260-1527-4c81-8e02-9b4055831026"
      },
      "source": [
        "pd.options.display.max_colwidth =100\n",
        "urls"
      ],
      "execution_count": 7,
      "outputs": [
        {
          "output_type": "execute_result",
          "data": {
            "text/plain": [
              "0      https://www.sejm.gov.pl/sejm9.nsf/posel.xsp?id=001&type=A\n",
              "1      https://www.sejm.gov.pl/sejm9.nsf/posel.xsp?id=002&type=A\n",
              "2      https://www.sejm.gov.pl/sejm9.nsf/posel.xsp?id=003&type=A\n",
              "3      https://www.sejm.gov.pl/sejm9.nsf/posel.xsp?id=004&type=A\n",
              "4      https://www.sejm.gov.pl/sejm9.nsf/posel.xsp?id=005&type=A\n",
              "                                 ...                            \n",
              "490    https://www.sejm.gov.pl/sejm9.nsf/posel.xsp?id=491&type=A\n",
              "491    https://www.sejm.gov.pl/sejm9.nsf/posel.xsp?id=492&type=A\n",
              "492    https://www.sejm.gov.pl/sejm9.nsf/posel.xsp?id=493&type=A\n",
              "493    https://www.sejm.gov.pl/sejm9.nsf/posel.xsp?id=494&type=A\n",
              "494    https://www.sejm.gov.pl/sejm9.nsf/posel.xsp?id=495&type=A\n",
              "Name: url_parametr, Length: 495, dtype: object"
            ]
          },
          "metadata": {
            "tags": []
          },
          "execution_count": 7
        }
      ]
    },
    {
      "cell_type": "code",
      "metadata": {
        "colab": {
          "base_uri": "https://localhost:8080/"
        },
        "id": "n6iOGQCecQmf",
        "outputId": "511459c4-0e44-48c7-83d3-acb557a1fa1b"
      },
      "source": [
        "#Convert series into list\n",
        "\n",
        "test_urls = urls[:10]\n",
        "test_urls = test_urls.values.tolist()\n",
        "print(test_urls) "
      ],
      "execution_count": 76,
      "outputs": [
        {
          "output_type": "stream",
          "text": [
            "['https://www.sejm.gov.pl/sejm9.nsf/posel.xsp?id=001&type=A', 'https://www.sejm.gov.pl/sejm9.nsf/posel.xsp?id=002&type=A', 'https://www.sejm.gov.pl/sejm9.nsf/posel.xsp?id=003&type=A', 'https://www.sejm.gov.pl/sejm9.nsf/posel.xsp?id=004&type=A', 'https://www.sejm.gov.pl/sejm9.nsf/posel.xsp?id=005&type=A', 'https://www.sejm.gov.pl/sejm9.nsf/posel.xsp?id=006&type=A', 'https://www.sejm.gov.pl/sejm9.nsf/posel.xsp?id=007&type=A', 'https://www.sejm.gov.pl/sejm9.nsf/posel.xsp?id=008&type=A', 'https://www.sejm.gov.pl/sejm9.nsf/posel.xsp?id=009&type=A', 'https://www.sejm.gov.pl/sejm9.nsf/posel.xsp?id=010&type=A']\n"
          ],
          "name": "stdout"
        }
      ]
    },
    {
      "cell_type": "code",
      "metadata": {
        "colab": {
          "base_uri": "https://localhost:8080/"
        },
        "id": "aVyCEAs9ehnz",
        "outputId": "22e1da78-b734-41f6-f7a6-88140db9381d"
      },
      "source": [
        "\n",
        "\n",
        "for i in test_urls:\n",
        "    print(i)"
      ],
      "execution_count": 75,
      "outputs": [
        {
          "output_type": "stream",
          "text": [
            "https://www.sejm.gov.pl/sejm9.nsf/posel.xsp?id=001&type=A\n",
            "https://www.sejm.gov.pl/sejm9.nsf/posel.xsp?id=002&type=A\n",
            "https://www.sejm.gov.pl/sejm9.nsf/posel.xsp?id=003&type=A\n",
            "https://www.sejm.gov.pl/sejm9.nsf/posel.xsp?id=004&type=A\n",
            "https://www.sejm.gov.pl/sejm9.nsf/posel.xsp?id=005&type=A\n",
            "https://www.sejm.gov.pl/sejm9.nsf/posel.xsp?id=006&type=A\n",
            "https://www.sejm.gov.pl/sejm9.nsf/posel.xsp?id=007&type=A\n",
            "https://www.sejm.gov.pl/sejm9.nsf/posel.xsp?id=008&type=A\n",
            "https://www.sejm.gov.pl/sejm9.nsf/posel.xsp?id=009&type=A\n",
            "https://www.sejm.gov.pl/sejm9.nsf/posel.xsp?id=010&type=A\n"
          ],
          "name": "stdout"
        }
      ]
    },
    {
      "cell_type": "code",
      "metadata": {
        "id": "X282XyC87N_C"
      },
      "source": [
        "import requests\n",
        "from bs4 import BeautifulSoup\n",
        "\n",
        "URL = 'https://www.sejm.gov.pl/Sejm9.nsf/posel.xsp?id=001&type=A'\n",
        "page = requests.get(URL)\n",
        "\n",
        "soup = BeautifulSoup(page.content, 'html.parser')"
      ],
      "execution_count": 81,
      "outputs": []
    },
    {
      "cell_type": "code",
      "metadata": {
        "id": "wZhFM7CC7VxE"
      },
      "source": [
        "results = soup.find(id='contentBody')\n",
        "results"
      ],
      "execution_count": 84,
      "outputs": []
    },
    {
      "cell_type": "code",
      "metadata": {
        "id": "lhI8RtpQGNbm",
        "colab": {
          "base_uri": "https://localhost:8080/",
          "height": 217
        },
        "outputId": "5363f7a5-eb7d-48d8-835c-1ff9e05310fa"
      },
      "source": [
        "#Get the part of HTML from where we will extract most information about politics\n",
        "\n",
        "title_elem = results.find(class_='cv')\n",
        "print(title_elem.text)"
      ],
      "execution_count": 83,
      "outputs": [
        {
          "output_type": "error",
          "ename": "AttributeError",
          "evalue": "ignored",
          "traceback": [
            "\u001b[0;31m---------------------------------------------------------------------------\u001b[0m",
            "\u001b[0;31mAttributeError\u001b[0m                            Traceback (most recent call last)",
            "\u001b[0;32m<ipython-input-83-3c8b101a6f3d>\u001b[0m in \u001b[0;36m<module>\u001b[0;34m()\u001b[0m\n\u001b[1;32m      1\u001b[0m \u001b[0;31m#Get the part of HTML from where we will extract most information about politics\u001b[0m\u001b[0;34m\u001b[0m\u001b[0;34m\u001b[0m\u001b[0;34m\u001b[0m\u001b[0m\n\u001b[1;32m      2\u001b[0m \u001b[0;34m\u001b[0m\u001b[0m\n\u001b[0;32m----> 3\u001b[0;31m \u001b[0mtitle_elem\u001b[0m \u001b[0;34m=\u001b[0m \u001b[0mresults\u001b[0m\u001b[0;34m.\u001b[0m\u001b[0mfind\u001b[0m\u001b[0;34m(\u001b[0m\u001b[0mclass_\u001b[0m\u001b[0;34m=\u001b[0m\u001b[0;34m'cv'\u001b[0m\u001b[0;34m)\u001b[0m\u001b[0;34m\u001b[0m\u001b[0;34m\u001b[0m\u001b[0m\n\u001b[0m\u001b[1;32m      4\u001b[0m \u001b[0mprint\u001b[0m\u001b[0;34m(\u001b[0m\u001b[0mtitle_elem\u001b[0m\u001b[0;34m.\u001b[0m\u001b[0mtext\u001b[0m\u001b[0;34m)\u001b[0m\u001b[0;34m\u001b[0m\u001b[0;34m\u001b[0m\u001b[0m\n",
            "\u001b[0;31mAttributeError\u001b[0m: 'NoneType' object has no attribute 'find'"
          ]
        }
      ]
    },
    {
      "cell_type": "code",
      "metadata": {
        "id": "RpagyBhLdEgi"
      },
      "source": [
        "imie_nazw= soup.find(id='title_content')"
      ],
      "execution_count": 71,
      "outputs": []
    },
    {
      "cell_type": "code",
      "metadata": {
        "id": "uW00SJmfdNT8",
        "colab": {
          "base_uri": "https://localhost:8080/",
          "height": 235
        },
        "outputId": "6847f0b3-5f11-4140-a5ba-ad8723bccfe0"
      },
      "source": [
        "import requests\n",
        "from bs4 import BeautifulSoup\n",
        "\n",
        "#extracts Full names of politics\n",
        "# Start to iterate while storing the info\n",
        "info_1, info_2, info_3, info_4, info_5, info_6 = [] , [] ,[] ,[] , [] , []\n",
        "for link in test_urls:\n",
        "    # Do stuff here, maybe its time to define your existing loops as functions?\n",
        "    page = requests.get(link)\n",
        "    soup = BeautifulSoup(page.content, 'html.parser')\n",
        "    results = soup.find(id='contentBody')\n",
        "    title_elem = results.find(class_='cv')\n",
        "    #extracts full name\n",
        "    imie_nazw= soup.find(id='title_content')\n",
        "    imie_nazw_elem = imie_nazw.find('h1')\n",
        "    full_name = imie_nazw_elem.text\n",
        "    #Extract education level\n",
        "    c = title_elem.text\n",
        "    a = 'Wykształcenie:'\n",
        "    b = 'Ukończona'\n",
        "    education_lvl = c.split(a)[-1].split(b)[0]\n",
        "    #Extract date of birth \n",
        "    c = title_elem.text\n",
        "    a = 'urodzenia:'\n",
        "    b = ','\n",
        "    date_of_birth = c.split(a)[-1].split(b)[0]\n",
        "    #Extract place of birth \n",
        "    c = soup.find(id='urodzony')\n",
        "    c = c.text\n",
        "    a = ', '\n",
        "    place_of_birth = c.split(a)[-1]\n",
        "    #Extract club details\n",
        "    klub = soup.find(id='view:_id1:_id2:facetMain:_id109:klub')\n",
        "    klub = klub.text\n",
        "    #Extracts primery key tha will allow to merge with other content of web\n",
        "    c = soup.find('form')\n",
        "    a = 'posel.xsp?'\n",
        "    b = '&amp;type=A'\n",
        "    html_content = str(c)\n",
        "    primery_key = html_content.split(a)[-1].split(b)[0]\n",
        "    \n",
        "    #add to list\n",
        "    info_1.append(full_name)\n",
        "    info_2.append(education_lvl)\n",
        "    info_3.append(date_of_birth)\n",
        "    info_4.append(place_of_birth)\n",
        "    info_5.append(klub)\n",
        "    info_6.append(promery_key)\n",
        "    "
      ],
      "execution_count": 74,
      "outputs": [
        {
          "output_type": "error",
          "ename": "AttributeError",
          "evalue": "ignored",
          "traceback": [
            "\u001b[0;31m---------------------------------------------------------------------------\u001b[0m",
            "\u001b[0;31mAttributeError\u001b[0m                            Traceback (most recent call last)",
            "\u001b[0;32m<ipython-input-74-6d2208655555>\u001b[0m in \u001b[0;36m<module>\u001b[0;34m()\u001b[0m\n\u001b[1;32m      8\u001b[0m     \u001b[0mresults\u001b[0m \u001b[0;34m=\u001b[0m \u001b[0msoup\u001b[0m\u001b[0;34m.\u001b[0m\u001b[0mfind\u001b[0m\u001b[0;34m(\u001b[0m\u001b[0mid\u001b[0m\u001b[0;34m=\u001b[0m\u001b[0;34m'contentBody'\u001b[0m\u001b[0;34m)\u001b[0m\u001b[0;34m\u001b[0m\u001b[0;34m\u001b[0m\u001b[0m\n\u001b[1;32m      9\u001b[0m     \u001b[0mtitle_elem\u001b[0m \u001b[0;34m=\u001b[0m \u001b[0mtitle_elem\u001b[0m\u001b[0;34m.\u001b[0m\u001b[0mtext\u001b[0m\u001b[0;34m\u001b[0m\u001b[0;34m\u001b[0m\u001b[0m\n\u001b[0;32m---> 10\u001b[0;31m     \u001b[0mtitle_elem\u001b[0m \u001b[0;34m=\u001b[0m \u001b[0mresults\u001b[0m\u001b[0;34m.\u001b[0m\u001b[0mfind\u001b[0m\u001b[0;34m(\u001b[0m\u001b[0mclass_\u001b[0m\u001b[0;34m=\u001b[0m\u001b[0;34m'cv'\u001b[0m\u001b[0;34m)\u001b[0m\u001b[0;34m\u001b[0m\u001b[0;34m\u001b[0m\u001b[0m\n\u001b[0m\u001b[1;32m     11\u001b[0m     \u001b[0;31m#extracts full name\u001b[0m\u001b[0;34m\u001b[0m\u001b[0;34m\u001b[0m\u001b[0;34m\u001b[0m\u001b[0m\n\u001b[1;32m     12\u001b[0m     \u001b[0mimie_nazw\u001b[0m\u001b[0;34m=\u001b[0m \u001b[0msoup\u001b[0m\u001b[0;34m.\u001b[0m\u001b[0mfind\u001b[0m\u001b[0;34m(\u001b[0m\u001b[0mid\u001b[0m\u001b[0;34m=\u001b[0m\u001b[0;34m'title_content'\u001b[0m\u001b[0;34m)\u001b[0m\u001b[0;34m\u001b[0m\u001b[0;34m\u001b[0m\u001b[0m\n",
            "\u001b[0;31mAttributeError\u001b[0m: 'NoneType' object has no attribute 'find'"
          ]
        }
      ]
    },
    {
      "cell_type": "code",
      "metadata": {
        "id": "8XoIB8j6tmHQ"
      },
      "source": [
        "#Combine the lists together\n",
        "\n",
        "data = [info_1,info_2,info_3,info_4,info_5,info_6] \n"
      ],
      "execution_count": 35,
      "outputs": []
    },
    {
      "cell_type": "code",
      "metadata": {
        "id": "Rzyh63NJuRnQ"
      },
      "source": [
        "#Convert lists into dataframe\n",
        "\n",
        "df = DataFrame(data).transpose()\n",
        "df.columns = ['full_name', 'education_lvl', 'date_of_birth', 'place_of_birth','political_party','primery_key']\n",
        "df                        "
      ],
      "execution_count": 36,
      "outputs": []
    },
    {
      "cell_type": "code",
      "metadata": {
        "id": "0gbS9ny6xcJT"
      },
      "source": [
        "#Save file to CSV\n",
        "\n",
        "df.to_csv(r'/content/gdrive/My Drive/Colab Notebooks/polityk.csv', header=True)"
      ],
      "execution_count": null,
      "outputs": []
    },
    {
      "cell_type": "markdown",
      "metadata": {
        "id": "xuqDca_0vZ3M"
      },
      "source": [
        "Until here all works below development codes"
      ]
    },
    {
      "cell_type": "code",
      "metadata": {
        "id": "rWeG4FoCvNQw"
      },
      "source": [
        "\n"
      ],
      "execution_count": 39,
      "outputs": []
    },
    {
      "cell_type": "code",
      "metadata": {
        "id": "zc5vAZqgarQE"
      },
      "source": [
        "# Start to iterate while storing the info\n",
        "info_1, info_2 = [], []\n",
        "for link in test_urls:\n",
        "    # Do stuff here, maybe its time to define your existing loops as functions?\n",
        "    info_a, info_b = YourFunctionReturningValues(soup)\n",
        "    info_1.append(info_a)\n",
        "    info_2.append(info_b)"
      ],
      "execution_count": null,
      "outputs": []
    },
    {
      "cell_type": "code",
      "metadata": {
        "colab": {
          "base_uri": "https://localhost:8080/"
        },
        "id": "oH6Vy5XvHdT3",
        "outputId": "561608ee-1138-4de5-f6d6-b34ce30b1bad"
      },
      "source": [
        "imie_nazw = soup.find(id='title_content')\n",
        "imie_nazw"
      ],
      "execution_count": 21,
      "outputs": [
        {
          "output_type": "execute_result",
          "data": {
            "text/plain": [
              "<div id=\"title_content\"><h1>Andrzej Adamczyk</h1><div id=\"contentBody\"><div id=\"view:_id1:_id2:facetMain\">\n",
              "<div class=\"partia\"><img alt=\"\" class=\"xspImage\" id=\"view:_id1:_id2:facetMain:_id109:_id111\" src=\"https://orka.sejm.gov.pl/Poslowie9.nsf/0/8A5101B0A983511BC125849C003135B9/$File/001.jpg\"/><p class=\"navi\" id=\"navPos\"><span>   </span><a href=\"/Sejm9.nsf/posel.xsp?id=002&amp;type=A\" id=\"view:_id1:_id2:facetMain:_id109:next\"> Następny ▶</a></p><ul class=\"data\"><li><p class=\"left\">Wybrany dnia:</p><p class=\"right\">13-10-2019</p></li><li><p class=\"left\" id=\"lblLista\">Lista:</p><p class=\"right\">Prawo i Sprawiedliwość</p></li><li><p class=\"left\" id=\"lblOkreg\">Okręg wyborczy:</p><p class=\"right\" id=\"okreg\">13  Kraków</p></li><li><p class=\"left\" id=\"lblGlosy\">Liczba głosów:</p><p class=\"right\">29686</p></li><li><p class=\"left\">Ślubowanie:</p><p class=\"right\">12-11-2019</p></li><li><p class=\"left\" id=\"lblStaz\">Staż parlamentarny:</p><p class=\"right\">poseł V kadencji, poseł VI kadencji, poseł VII kadencji, poseł VIII kadencji</p></li><li class=\"last-child\"><p class=\"left\" id=\"lblKlub\">Klub/koło:</p><p class=\"right\"><a class=\"bold\" href=\"/Sejm9.nsf/klub.xsp?klub=PiS\" id=\"view:_id1:_id2:facetMain:_id109:klub\">Klub Parlamentarny Prawo i Sprawiedliwość</a></p></li></ul></div><div class=\"cv\"><ul class=\"data\"><li><p class=\"left\" id=\"lblUrodzony\">Data i miejsce urodzenia:</p><p class=\"right\" id=\"urodzony\">04-01-1959, Krzeszowice</p></li><li><p class=\"left\" id=\"lblWyksztalcenie\">Wykształcenie:</p><p class=\"right\">wyższe</p></li><li><p class=\"left\" id=\"lblSzkola\">Ukończona szkoła:</p><p class=\"right\">Społeczna Akademia Nauk w Łodzi, Wydział Zarządzania, Rachunkowośc i finanse w zarządzaniu - licencjat (2014)</p></li><li class=\"last-child\"><p class=\"left\" id=\"lblZawod\">Zawód:</p><p class=\"right\">parlamentarzysta</p></li></ul></div><div class=\"aktywnosc\"><h3 id=\"aktywnosc\">Aktywność poselska</h3><ul class=\"data\"><li><a href=\"#wystapienia\" id=\"wystapienia\">Wystąpienia na posiedzeniach Sejmu</a><div class=\"holder\" id=\"view:_id1:_id2:facetMain:_id191:holdWystapienia\"></div></li><li><a href=\"#int\" id=\"int\">Interpelacje, zapytania, pytania w sprawach\n",
              "          bieżących, oświadczenia</a><div class=\"holder\" id=\"view:_id1:_id2:facetMain:_id191:holdInterpelacje\"></div></li><li><a href=\"#glosowania\" id=\"glosowania\">Głosowania</a><div class=\"holder\" id=\"view:_id1:_id2:facetMain:_id191:holdGlosowania\"></div></li><li><a href=\"#komisje\" id=\"komisje\">Przynależność do komisji i podkomisji</a><div class=\"holder\" id=\"view:_id1:_id2:facetMain:_id191:holdKomisje\"></div></li><li><a href=\"#delegacje\" id=\"delegacje\">Przynależność do stałych delegacji parlamentarnych i grup\n",
              "          bilateralnych</a><div class=\"holder\" id=\"view:_id1:_id2:facetMain:_id191:holdDelegacje\"></div></li><li class=\"last-child\"><a href=\"#zespoly\" id=\"zespoly\">Przynależność do zespołów parlamentarnych</a><div class=\"holder\" id=\"view:_id1:_id2:facetMain:_id191:holdZespoly\"></div></li></ul></div><div class=\"kontakt\"><ul class=\"data\"><li><a href=\"#biura\" id=\"biura\">Biura Poselskie</a><div class=\"holder\" id=\"view:_id1:_id2:facetMain:_id191:holdBiura\"></div></li><li><a href=\"#\" id=\"view:_id1:_id2:facetMain:_id191:wsp\">Wykaz współpracowników</a><div class=\"holder\" id=\"view:_id1:_id2:facetMain:_id191:holdWsp\">\n",
              "</div>\n",
              "</li><li><a href=\"#osw\" id=\"osw\">Oświadczenia majątkowe</a><div class=\"holder\" id=\"view:_id1:_id2:facetMain:_id191:holdMajatek\">\n",
              "</div>\n",
              "</li><li><a href=\"#rejkorz\" id=\"rejkorz\">Rejestr korzyści</a><div class=\"holder\" id=\"view:_id1:_id2:facetMain:_id191:holdKorzysci\">\n",
              "</div>\n",
              "</li><li class=\"margin last-child\"><p class=\"left\" id=\"PoselEmail\">Email:</p><p class=\"right\"><a href=\"#A n d r z e j   D O T   A d a m c z y k   A T   s e j m   D O T   p l \" id=\"view:_id1:_id2:facetMain:_id191:_id280\">pokaż adres email</a></p></li></ul></div><script type=\"text/javascript\">\n",
              "eventId = 'view:_id1:_id2:facetMain:_id191:loadData';\n",
              "dojo.ready(function() { \n",
              "    initDeputy();\n",
              "    dojo.connect(dojo.byId(\"wystapienia\"), \"onclick\", function(e) { poselLoadContent(e, 'Wystapienia', 'view:_id1:_id2:facetMain:_id191:holdWystapienia'); });\n",
              "    dojo.connect(dojo.byId(\"int\"), \"onclick\", function(e) { poselLoadContent(e, 'Interpelacje', 'view:_id1:_id2:facetMain:_id191:holdInterpelacje'); });\n",
              "    if (dojo.byId(\"tk\") != null) {\n",
              "        dojo.connect(dojo.byId(\"tk\"), \"onclick\", function(e) { poselLoadContent(e, 'Trybunal', 'view:_id1:_id2:facetMain:_id191:holdTrybunal'); });\n",
              "    }\n",
              "    dojo.connect(dojo.byId(\"glosowania\"), \"onclick\", function(e) { poselLoadContent(e, 'Glosowania', 'view:_id1:_id2:facetMain:_id191:holdGlosowania'); });    \n",
              "    dojo.connect(dojo.byId(\"delegacje\"), \"onclick\", function(e) { poselLoadContent(e, 'Delegacje', 'view:_id1:_id2:facetMain:_id191:holdDelegacje'); });\n",
              "    dojo.connect(dojo.byId(\"komisje\"), \"onclick\", function(e) { poselLoadContent(e, 'Komisje', 'view:_id1:_id2:facetMain:_id191:holdKomisje'); });    \n",
              "    dojo.connect(dojo.byId(\"zespoly\"), \"onclick\", function(e) { poselLoadContent(e, 'Zespoly', 'view:_id1:_id2:facetMain:_id191:holdZespoly'); });\n",
              "    dojo.connect(dojo.byId(\"biura\"), \"onclick\", function(e) { poselLoadContent(e, 'Biura', 'view:_id1:_id2:facetMain:_id191:holdBiura'); });   \n",
              "    dojo.connect(dojo.byId(\"osw\"), \"onclick\", function(e) { poselLoadContent(e, 'Majatek', 'view:_id1:_id2:facetMain:_id191:holdMajatek'); });\n",
              "    dojo.connect(dojo.byId(\"rejkorz\"), \"onclick\", function(e) { poselLoadContent(e, 'Korzysci', 'view:_id1:_id2:facetMain:_id191:holdKorzysci'); });\n",
              "});\n",
              "</script>\n",
              "</div>\n",
              "</div></div>"
            ]
          },
          "metadata": {
            "tags": []
          },
          "execution_count": 21
        }
      ]
    },
    {
      "cell_type": "code",
      "metadata": {
        "colab": {
          "base_uri": "https://localhost:8080/",
          "height": 158
        },
        "id": "K4UEBQMBVPCU",
        "outputId": "3e2c7daf-2f62-4057-d712-b07abc090d2c"
      },
      "source": [
        "# Extract full name \n",
        "imie_nazw = soup.find(id='title_content')\n",
        "full_name = imie_nazw.text\n",
        "\n",
        "#test\n",
        "full_name\n"
      ],
      "execution_count": 13,
      "outputs": [
        {
          "output_type": "execute_result",
          "data": {
            "application/vnd.google.colaboratory.intrinsic+json": {
              "type": "string"
            },
            "text/plain": [
              "'Andrzej Adamczyk\\n\\xa0\\xa0\\xa0 Następny ▶Wybrany dnia:13-10-2019Lista:Prawo i SprawiedliwośćOkręg wyborczy:13\\xa0\\xa0KrakówLiczba głosów:29686Ślubowanie:12-11-2019Staż parlamentarny:poseł V kadencji, poseł VI kadencji, poseł VII kadencji, poseł VIII kadencjiKlub/koło:Klub Parlamentarny Prawo i SprawiedliwośćData i miejsce urodzenia:04-01-1959, KrzeszowiceWykształcenie:wyższeUkończona szkoła:Społeczna Akademia Nauk w Łodzi, Wydział Zarządzania, Rachunkowośc i finanse w zarządzaniu - licencjat (2014)Zawód:parlamentarzystaAktywność poselskaWystąpienia na posiedzeniach SejmuInterpelacje, zapytania, pytania w sprawach\\n          bieżących, oświadczeniaGłosowaniaPrzynależność do komisji i podkomisjiPrzynależność do stałych delegacji parlamentarnych i grup\\n          bilateralnychPrzynależność do zespołów parlamentarnychBiura PoselskieWykaz współpracowników\\n\\nOświadczenia majątkowe\\n\\nRejestr korzyści\\n\\nEmail:pokaż adres email\\neventId = \\'view:_id1:_id2:facetMain:_id191:loadData\\';\\ndojo.ready(function() { \\n    initDeputy();\\n    dojo.connect(dojo.byId(\"wystapienia\"), \"onclick\", function(e) { poselLoadContent(e, \\'Wystapienia\\', \\'view:_id1:_id2:facetMain:_id191:holdWystapienia\\'); });\\n    dojo.connect(dojo.byId(\"int\"), \"onclick\", function(e) { poselLoadContent(e, \\'Interpelacje\\', \\'view:_id1:_id2:facetMain:_id191:holdInterpelacje\\'); });\\n    if (dojo.byId(\"tk\") != null) {\\n        dojo.connect(dojo.byId(\"tk\"), \"onclick\", function(e) { poselLoadContent(e, \\'Trybunal\\', \\'view:_id1:_id2:facetMain:_id191:holdTrybunal\\'); });\\n    }\\n    dojo.connect(dojo.byId(\"glosowania\"), \"onclick\", function(e) { poselLoadContent(e, \\'Glosowania\\', \\'view:_id1:_id2:facetMain:_id191:holdGlosowania\\'); });    \\n    dojo.connect(dojo.byId(\"delegacje\"), \"onclick\", function(e) { poselLoadContent(e, \\'Delegacje\\', \\'view:_id1:_id2:facetMain:_id191:holdDelegacje\\'); });\\n    dojo.connect(dojo.byId(\"komisje\"), \"onclick\", function(e) { poselLoadContent(e, \\'Komisje\\', \\'view:_id1:_id2:facetMain:_id191:holdKomisje\\'); });    \\n    dojo.connect(dojo.byId(\"zespoly\"), \"onclick\", function(e) { poselLoadContent(e, \\'Zespoly\\', \\'view:_id1:_id2:facetMain:_id191:holdZespoly\\'); });\\n    dojo.connect(dojo.byId(\"biura\"), \"onclick\", function(e) { poselLoadContent(e, \\'Biura\\', \\'view:_id1:_id2:facetMain:_id191:holdBiura\\'); });   \\n    dojo.connect(dojo.byId(\"osw\"), \"onclick\", function(e) { poselLoadContent(e, \\'Majatek\\', \\'view:_id1:_id2:facetMain:_id191:holdMajatek\\'); });\\n    dojo.connect(dojo.byId(\"rejkorz\"), \"onclick\", function(e) { poselLoadContent(e, \\'Korzysci\\', \\'view:_id1:_id2:facetMain:_id191:holdKorzysci\\'); });\\n});\\n\\n\\n'"
            ]
          },
          "metadata": {
            "tags": []
          },
          "execution_count": 13
        }
      ]
    },
    {
      "cell_type": "code",
      "metadata": {
        "colab": {
          "base_uri": "https://localhost:8080/",
          "height": 36
        },
        "id": "6_tXayyojcds",
        "outputId": "73390361-c866-452a-d1ba-eee0caf24e61"
      },
      "source": [
        "#Extract Name \n",
        "imie_nazw= soup.find(id='title_content')\n",
        "name = imie_nazw.text\n",
        "a=' '\n",
        "name = name.split(a)[0]\n",
        "\n",
        "#test\n",
        "name"
      ],
      "execution_count": 17,
      "outputs": [
        {
          "output_type": "execute_result",
          "data": {
            "application/vnd.google.colaboratory.intrinsic+json": {
              "type": "string"
            },
            "text/plain": [
              "'Andrzej'"
            ]
          },
          "metadata": {
            "tags": []
          },
          "execution_count": 17
        }
      ]
    },
    {
      "cell_type": "code",
      "metadata": {
        "colab": {
          "base_uri": "https://localhost:8080/",
          "height": 36
        },
        "id": "qqrVt_DmjjIm",
        "outputId": "0096beaa-3d0d-460b-f251-3540e6865691"
      },
      "source": [
        "#Extract Surname \n",
        "imie_nazw = soup.find(id='title_content')\n",
        "surname = imie_nazw.text\n",
        "a=' '\n",
        "surname = surname.split(a)[-1]\n",
        "\n",
        "#test\n",
        "surname"
      ],
      "execution_count": 18,
      "outputs": [
        {
          "output_type": "execute_result",
          "data": {
            "application/vnd.google.colaboratory.intrinsic+json": {
              "type": "string"
            },
            "text/plain": [
              "'});\\n});\\n\\n\\n'"
            ]
          },
          "metadata": {
            "tags": []
          },
          "execution_count": 18
        }
      ]
    },
    {
      "cell_type": "code",
      "metadata": {
        "colab": {
          "base_uri": "https://localhost:8080/",
          "height": 36
        },
        "id": "ZXU2QPPTp-tW",
        "outputId": "1e24db0a-31f5-45d0-e1ba-f5daa6c74909"
      },
      "source": [
        "#Extract the education level\n",
        "c = title_elem.text\n",
        "a = 'Wykształcenie:'\n",
        "b = 'Ukończona'\n",
        "education_lvl = c.split(a)[-1].split(b)[0]\n",
        "\n",
        "# test\n",
        "education_lvl"
      ],
      "execution_count": null,
      "outputs": [
        {
          "output_type": "execute_result",
          "data": {
            "application/vnd.google.colaboratory.intrinsic+json": {
              "type": "string"
            },
            "text/plain": [
              "'wyższe'"
            ]
          },
          "metadata": {
            "tags": []
          },
          "execution_count": 8
        }
      ]
    },
    {
      "cell_type": "code",
      "metadata": {
        "colab": {
          "base_uri": "https://localhost:8080/"
        },
        "id": "iekQ5PZKkurp",
        "outputId": "3514db9d-647f-43f0-9a72-cccdf54fc0c2"
      },
      "source": [
        "print(title_elem)"
      ],
      "execution_count": null,
      "outputs": [
        {
          "output_type": "stream",
          "text": [
            "<div class=\"cv\"><ul class=\"data\"><li><p class=\"left\" id=\"lblUrodzony\">Data i miejsce urodzenia:</p><p class=\"right\" id=\"urodzony\">04-01-1959, Krzeszowice</p></li><li><p class=\"left\" id=\"lblWyksztalcenie\">Wykształcenie:</p><p class=\"right\">wyższe</p></li><li><p class=\"left\" id=\"lblSzkola\">Ukończona szkoła:</p><p class=\"right\">Społeczna Akademia Nauk w Łodzi, Wydział Zarządzania, Rachunkowośc i finanse w zarządzaniu - licencjat (2014)</p></li><li class=\"last-child\"><p class=\"left\" id=\"lblZawod\">Zawód:</p><p class=\"right\">parlamentarzysta</p></li></ul></div>\n"
          ],
          "name": "stdout"
        }
      ]
    },
    {
      "cell_type": "code",
      "metadata": {
        "colab": {
          "base_uri": "https://localhost:8080/",
          "height": 36
        },
        "id": "DGD41FM1TsbL",
        "outputId": "7265551a-6e73-415e-fa5f-134a9843c8ff"
      },
      "source": [
        "#Extract the date of birth \n",
        "c = title_elem.text\n",
        "a = 'urodzenia:'\n",
        "b = ','\n",
        "date_of_birth = c.split(a)[-1].split(b)[0]\n",
        "\n",
        "# test\n",
        "date_of_birth"
      ],
      "execution_count": null,
      "outputs": [
        {
          "output_type": "execute_result",
          "data": {
            "application/vnd.google.colaboratory.intrinsic+json": {
              "type": "string"
            },
            "text/plain": [
              "'04-01-1959'"
            ]
          },
          "metadata": {
            "tags": []
          },
          "execution_count": 17
        }
      ]
    },
    {
      "cell_type": "code",
      "metadata": {
        "colab": {
          "base_uri": "https://localhost:8080/",
          "height": 36
        },
        "id": "pCOqrF2aU6X7",
        "outputId": "ebf572b1-54a1-4a6c-eeff-b0f187df13a1"
      },
      "source": [
        "#Extract the place of birth \n",
        "c = soup.find(id='urodzony')\n",
        "c = c.text\n",
        "a = ', '\n",
        "place_of_birth = c.split(a)[-1]\n",
        "\n",
        "# test\n",
        "place_of_birth"
      ],
      "execution_count": null,
      "outputs": [
        {
          "output_type": "execute_result",
          "data": {
            "application/vnd.google.colaboratory.intrinsic+json": {
              "type": "string"
            },
            "text/plain": [
              "'Krzeszowice'"
            ]
          },
          "metadata": {
            "tags": []
          },
          "execution_count": 24
        }
      ]
    },
    {
      "cell_type": "code",
      "metadata": {
        "colab": {
          "base_uri": "https://localhost:8080/",
          "height": 36
        },
        "id": "DK5Yy66AWFAC",
        "outputId": "faa8de4d-1699-4555-ebd5-3d95b0fff0ca"
      },
      "source": [
        "#Extract club details\n",
        "\n",
        "klub = soup.find(id='view:_id1:_id2:facetMain:_id109:klub')\n",
        "klub = klub.tex\n",
        "\n",
        "#test\n",
        "klub"
      ],
      "execution_count": null,
      "outputs": [
        {
          "output_type": "execute_result",
          "data": {
            "application/vnd.google.colaboratory.intrinsic+json": {
              "type": "string"
            },
            "text/plain": [
              "'Klub Parlamentarny Prawo i Sprawiedliwość'"
            ]
          },
          "metadata": {
            "tags": []
          },
          "execution_count": 26
        }
      ]
    },
    {
      "cell_type": "code",
      "metadata": {
        "id": "DuMLrZHCIYO5"
      },
      "source": [
        "# Don't forget to import the csv module\n",
        "with open(r\"path_to_file.csv\", \"wb\") as my_file:\n",
        "    csv_writer = csv.writer(final_csv, delimiter = \",\")\n",
        "    csv_writer.writerows(zip(urls, info_1, info_2, info_3))\n",
        "\n",
        "\n"
      ],
      "execution_count": null,
      "outputs": []
    },
    {
      "cell_type": "markdown",
      "metadata": {
        "id": "g5Wh1PIskoLD"
      },
      "source": [
        "below test codes and above clean codes"
      ]
    },
    {
      "cell_type": "code",
      "metadata": {
        "colab": {
          "base_uri": "https://localhost:8080/"
        },
        "id": "DtM6So-4mleJ",
        "outputId": "75f483eb-a996-4100-f805-3a402b802195"
      },
      "source": [
        "\n",
        "print(\"Date of birth: \" + urodzony.text)\n",
        "print(klub.text)\n",
        "#print(wyksztalcenie)\n",
        "#print(title_elem)\n",
        "print()"
      ],
      "execution_count": null,
      "outputs": [
        {
          "output_type": "stream",
          "text": [
            "Full name: Andrzej Adamczyk\n",
            "Date of birth: 04-01-1959, Krzeszowice\n",
            "Klub Parlamentarny Prawo i Sprawiedliwość\n",
            "\n"
          ],
          "name": "stdout"
        }
      ]
    },
    {
      "cell_type": "code",
      "metadata": {
        "colab": {
          "base_uri": "https://localhost:8080/"
        },
        "id": "UG-mhnkiQsyL",
        "outputId": "67be0cec-1b69-4a4c-9f21-1f742e51fdc4"
      },
      "source": [
        "for wyksztalcenie in wyksztalcenie:\n",
        "    print(wyksztalcenie, end='\\n'*2)"
      ],
      "execution_count": null,
      "outputs": [
        {
          "output_type": "stream",
          "text": [
            "13-10-2019\n",
            "\n"
          ],
          "name": "stdout"
        }
      ]
    },
    {
      "cell_type": "code",
      "metadata": {
        "colab": {
          "base_uri": "https://localhost:8080/",
          "height": 356
        },
        "id": "OFAprIbpT-p4",
        "outputId": "e22a93e9-c0dc-4ca1-92dd-3d9af8e37b30"
      },
      "source": [
        "for results in results:\n",
        "  title_elem = results.find_all(class_='right')\n",
        "  #b = BeautifulSoup(title_elem, \"html.parser\")\n",
        "  #print(b.text)\n",
        "  title_elem\n"
      ],
      "execution_count": null,
      "outputs": [
        {
          "output_type": "error",
          "ename": "AttributeError",
          "evalue": "ignored",
          "traceback": [
            "\u001b[0;31m---------------------------------------------------------------------------\u001b[0m",
            "\u001b[0;31mAttributeError\u001b[0m                            Traceback (most recent call last)",
            "\u001b[0;32m<ipython-input-41-8c5524ce122f>\u001b[0m in \u001b[0;36m<module>\u001b[0;34m()\u001b[0m\n\u001b[1;32m      1\u001b[0m \u001b[0;32mfor\u001b[0m \u001b[0mresults\u001b[0m \u001b[0;32min\u001b[0m \u001b[0mresults\u001b[0m\u001b[0;34m:\u001b[0m\u001b[0;34m\u001b[0m\u001b[0;34m\u001b[0m\u001b[0m\n\u001b[0;32m----> 2\u001b[0;31m   \u001b[0mtitle_elem\u001b[0m \u001b[0;34m=\u001b[0m \u001b[0mresults\u001b[0m\u001b[0;34m.\u001b[0m\u001b[0mfind_all\u001b[0m\u001b[0;34m(\u001b[0m\u001b[0mclass_\u001b[0m\u001b[0;34m=\u001b[0m\u001b[0;34m'right'\u001b[0m\u001b[0;34m)\u001b[0m\u001b[0;34m\u001b[0m\u001b[0;34m\u001b[0m\u001b[0m\n\u001b[0m\u001b[1;32m      3\u001b[0m   \u001b[0;31m#b = BeautifulSoup(title_elem, \"html.parser\")\u001b[0m\u001b[0;34m\u001b[0m\u001b[0;34m\u001b[0m\u001b[0;34m\u001b[0m\u001b[0m\n\u001b[1;32m      4\u001b[0m   \u001b[0;31m#print(b.text)\u001b[0m\u001b[0;34m\u001b[0m\u001b[0;34m\u001b[0m\u001b[0;34m\u001b[0m\u001b[0m\n\u001b[1;32m      5\u001b[0m   \u001b[0mtitle_elem\u001b[0m\u001b[0;34m\u001b[0m\u001b[0;34m\u001b[0m\u001b[0m\n",
            "\u001b[0;32m/usr/local/lib/python3.6/dist-packages/bs4/element.py\u001b[0m in \u001b[0;36m__getattr__\u001b[0;34m(self, attr)\u001b[0m\n\u001b[1;32m    795\u001b[0m             raise AttributeError(\n\u001b[1;32m    796\u001b[0m                 \"'%s' object has no attribute '%s'\" % (\n\u001b[0;32m--> 797\u001b[0;31m                     self.__class__.__name__, attr))\n\u001b[0m\u001b[1;32m    798\u001b[0m \u001b[0;34m\u001b[0m\u001b[0m\n\u001b[1;32m    799\u001b[0m     \u001b[0;32mdef\u001b[0m \u001b[0moutput_ready\u001b[0m\u001b[0;34m(\u001b[0m\u001b[0mself\u001b[0m\u001b[0;34m,\u001b[0m \u001b[0mformatter\u001b[0m\u001b[0;34m=\u001b[0m\u001b[0;34m\"minimal\"\u001b[0m\u001b[0;34m)\u001b[0m\u001b[0;34m:\u001b[0m\u001b[0;34m\u001b[0m\u001b[0;34m\u001b[0m\u001b[0m\n",
            "\u001b[0;31mAttributeError\u001b[0m: 'NavigableString' object has no attribute 'find_all'"
          ]
        }
      ]
    },
    {
      "cell_type": "code",
      "metadata": {
        "id": "Vogcy4p97co1",
        "colab": {
          "base_uri": "https://localhost:8080/"
        },
        "outputId": "60fe5239-1a14-46f6-cf5f-06e3d6ce0bd1"
      },
      "source": [
        "# print(results)\n",
        "print(imie_nazw_elem.text)\n",
        "print(urodzony.text)\n",
        "print(klub.text)\n",
        "print(wyksztalcenie)\n",
        "print(title_elem)\n"
      ],
      "execution_count": null,
      "outputs": [
        {
          "output_type": "stream",
          "text": [
            "Andrzej Adamczyk\n",
            "04-01-1959, Krzeszowice\n",
            "Klub Parlamentarny Prawo i Sprawiedliwość\n",
            "[<p class=\"right\">13-10-2019</p>, <p class=\"right\">Prawo i Sprawiedliwość</p>, <p class=\"right\" id=\"okreg\">13  Kraków</p>, <p class=\"right\">29686</p>, <p class=\"right\">12-11-2019</p>, <p class=\"right\">poseł V kadencji, poseł VI kadencji, poseł VII kadencji, poseł VIII kadencji</p>, <p class=\"right\"><a class=\"bold\" href=\"/Sejm9.nsf/klub.xsp?klub=PiS\" id=\"view:_id1:_id2:facetMain:_id109:klub\">Klub Parlamentarny Prawo i Sprawiedliwość</a></p>, <p class=\"right\" id=\"urodzony\">04-01-1959, Krzeszowice</p>, <p class=\"right\">wyższe</p>, <p class=\"right\">Społeczna Akademia Nauk w Łodzi, Wydział Zarządzania, Rachunkowośc i finanse w zarządzaniu - licencjat (2014)</p>, <p class=\"right\">parlamentarzysta</p>, <p class=\"right\"><a href=\"#A n d r z e j   D O T   A d a m c z y k   A T   s e j m   D O T   p l \" id=\"view:_id1:_id2:facetMain:_id191:_id280\">pokaż adres email</a></p>]\n",
            "<div class=\"cv\"><ul class=\"data\"><li><p class=\"left\" id=\"lblUrodzony\">Data i miejsce urodzenia:</p><p class=\"right\" id=\"urodzony\">04-01-1959, Krzeszowice</p></li><li><p class=\"left\" id=\"lblWyksztalcenie\">Wykształcenie:</p><p class=\"right\">wyższe</p></li><li><p class=\"left\" id=\"lblSzkola\">Ukończona szkoła:</p><p class=\"right\">Społeczna Akademia Nauk w Łodzi, Wydział Zarządzania, Rachunkowośc i finanse w zarządzaniu - licencjat (2014)</p></li><li class=\"last-child\"><p class=\"left\" id=\"lblZawod\">Zawód:</p><p class=\"right\">parlamentarzysta</p></li></ul></div>\n"
          ],
          "name": "stdout"
        }
      ]
    },
    {
      "cell_type": "code",
      "metadata": {
        "id": "ci5KzAhYINEk"
      },
      "source": [
        ""
      ],
      "execution_count": null,
      "outputs": []
    },
    {
      "cell_type": "code",
      "metadata": {
        "id": "yZGDMlNU7fEw"
      },
      "source": [
        ""
      ],
      "execution_count": null,
      "outputs": []
    },
    {
      "cell_type": "code",
      "metadata": {
        "id": "eMcFsPHzcZrY"
      },
      "source": [
        ""
      ],
      "execution_count": null,
      "outputs": []
    }
  ]
}
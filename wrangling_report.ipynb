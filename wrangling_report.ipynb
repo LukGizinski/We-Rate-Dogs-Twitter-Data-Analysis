{
 "cells": [
  {
   "cell_type": "markdown",
   "metadata": {},
   "source": [
    "In this Report I will briefly describes my wrangling efforts to assemble and clean the data frames required for the purpose of analysis.\n",
    "\n",
    "Data Gathering\n",
    "\n",
    "I have gathered data  from three sources:\n",
    "\n",
    "1.\tWeRateDogs downloaded from Udacity\n",
    "2.\tThe image predictions file also downloaded from Udacity\n",
    "3.\tAnd the set of JSON data downloaded as well from Udacity\n",
    "\n",
    "All of those has been uploaded to my project as separate Data Frames.\n",
    "\n",
    "For the purpose of the wrangling I have used Pandas, Numpy, Requests , Tweepy, JSON\n",
    "\n",
    "#### Assessmen.\n",
    "\n",
    "After gathering each of the above pieces of data, I have assessed them visually and programmatically looking for quality and tidiness issues. \n",
    "\n",
    "Programmatically I have used the .info() .decsribe() and .value_counts() which allowed me to spot several quality issues.\n",
    "\n",
    "#### My Findings\n",
    "\n",
    "#### Quality\n",
    "\n",
    "\n",
    "##### •\tretweeted_status_timestamp, timestamp should be datetime instead of object (string).\n",
    "##### •\tthere are duplicates - retweets \n",
    "##### •\tin columnn 'names' there are values (an , a , None, the) which are not a name of a dog\n",
    "##### •\tin columns doggo, floofer, pupper, puppo are values 'None'\n",
    "##### •\tnames in columns p1,p2,p3 are not enough descriptive\n",
    "##### •\tDog names are in bit messy format and will not look good at visulaisations \n",
    "##### •\tgolden_retriever, Labrador_retriever they are exactly same type of dog\n",
    "\n",
    "##### •\tid and idstr columns represent the same information\n",
    "##### •\tchange name from id to twitter id to make joining DataFrames possible\n",
    "##### •\tthere are tweets in other languages than eng\n",
    "##### •\tpossibly_sensitive_appealable and possibly_sensitive has only one value 'False'\n",
    "\n",
    "#### Tidiness\n",
    "\n",
    "##### •\tthe dog stage has 4 stages (doggo, floofer, pupper, puppo)\n",
    "##### •\tcombine all sources into one Data Frame\n",
    "##### •\tnot all img are dogs\n",
    "\n",
    "After that I have cleaned up the data frames with the Define Code and Test approach.\n",
    "\n",
    "At the end I have decided to join all the DtatFrames into one Store the clean DataFrame in a CSV file with the main one named twitter_archive_master.csv\n",
    "\n",
    "After that I have Assessed the data set and discovered that I NaN values in predictions so I have decided to clean up the master data farme with Define Code and Test.\n"
   ]
  },
  {
   "cell_type": "code",
   "execution_count": null,
   "metadata": {},
   "outputs": [],
   "source": []
  }
 ],
 "metadata": {
  "kernelspec": {
   "display_name": "Python 3",
   "language": "python",
   "name": "python3"
  },
  "language_info": {
   "codemirror_mode": {
    "name": "ipython",
    "version": 3
   },
   "file_extension": ".py",
   "mimetype": "text/x-python",
   "name": "python",
   "nbconvert_exporter": "python",
   "pygments_lexer": "ipython3",
   "version": "3.8.3"
  }
 },
 "nbformat": 4,
 "nbformat_minor": 2
}
